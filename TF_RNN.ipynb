{
 "cells": [
  {
   "cell_type": "code",
   "execution_count": 1,
   "metadata": {},
   "outputs": [],
   "source": [
    "import tensorflow as tf\n",
    "from tensorflow.keras.models import Sequential\n",
    "from tensorflow.keras.layers import Dense, Dropout, LSTM\n",
    "\n",
    "mnist = tf.keras.datasets.mnist\n",
    "(x_train, y_train), (x_test, y_test) = mnist.load_data()\n",
    "\n",
    "x_train= tf.keras.utils.normalize(x_train, axis=1)\n",
    "x_test= tf.keras.utils.normalize(x_test, axis=1)"
   ]
  },
  {
   "cell_type": "code",
   "execution_count": 2,
   "metadata": {},
   "outputs": [
    {
     "name": "stdout",
     "output_type": "stream",
     "text": [
      "Train on 60000 samples, validate on 10000 samples\n",
      "Epoch 1/10\n",
      "60000/60000 [==============================] - 11s 185us/sample - loss: 0.4995 - accuracy: 0.8414 - val_loss: 0.1670 - val_accuracy: 0.9464\n",
      "Epoch 2/10\n",
      "60000/60000 [==============================] - 8s 136us/sample - loss: 0.1544 - accuracy: 0.9583 - val_loss: 0.1023 - val_accuracy: 0.9697\n",
      "Epoch 3/10\n",
      "60000/60000 [==============================] - 8s 136us/sample - loss: 0.1073 - accuracy: 0.9714 - val_loss: 0.0764 - val_accuracy: 0.9771\n",
      "Epoch 4/10\n",
      "60000/60000 [==============================] - 8s 133us/sample - loss: 0.0836 - accuracy: 0.9771 - val_loss: 0.0717 - val_accuracy: 0.9795\n",
      "Epoch 5/10\n",
      "60000/60000 [==============================] - 8s 133us/sample - loss: 0.0681 - accuracy: 0.9816 - val_loss: 0.0787 - val_accuracy: 0.9781\n",
      "Epoch 6/10\n",
      "60000/60000 [==============================] - 8s 134us/sample - loss: 0.0577 - accuracy: 0.9845 - val_loss: 0.0465 - val_accuracy: 0.9866\n",
      "Epoch 7/10\n",
      "60000/60000 [==============================] - 8s 134us/sample - loss: 0.0474 - accuracy: 0.9870 - val_loss: 0.0578 - val_accuracy: 0.9847\n",
      "Epoch 8/10\n",
      "60000/60000 [==============================] - 8s 133us/sample - loss: 0.0474 - accuracy: 0.9869 - val_loss: 0.0520 - val_accuracy: 0.9858\n",
      "Epoch 9/10\n",
      "60000/60000 [==============================] - 8s 136us/sample - loss: 0.0386 - accuracy: 0.9894 - val_loss: 0.0438 - val_accuracy: 0.9870\n",
      "Epoch 10/10\n",
      "60000/60000 [==============================] - 8s 135us/sample - loss: 0.0347 - accuracy: 0.9908 - val_loss: 0.0508 - val_accuracy: 0.9866\n"
     ]
    },
    {
     "data": {
      "text/plain": [
       "<tensorflow.python.keras.callbacks.History at 0x14dab917188>"
      ]
     },
     "execution_count": 2,
     "metadata": {},
     "output_type": "execute_result"
    }
   ],
   "source": [
    "model = Sequential()\n",
    "model.add(LSTM(128, input_shape=(x_train.shape[1:]), activation='tanh', return_sequences=True))\n",
    "model.add(Dropout(0.2))\n",
    "model.add(LSTM(128, activation='tanh'))\n",
    "model.add(Dropout(0.2))\n",
    "model.add(Dense(32, activation='relu'))\n",
    "model.add(Dropout(0.2))\n",
    "model.add(Dense(10, activation='softmax'))\n",
    "\n",
    "opt = tf.keras.optimizers.Adam(lr=1e-3, decay=1e-5)\n",
    "\n",
    "model.compile(loss='sparse_categorical_crossentropy',\n",
    "             optimizer=opt,\n",
    "             metrics=['accuracy'])\n",
    "model.fit(x_train, y_train, epochs=10, validation_data=(x_test, y_test))"
   ]
  },
  {
   "cell_type": "code",
   "execution_count": null,
   "metadata": {},
   "outputs": [],
   "source": []
  }
 ],
 "metadata": {
  "kernelspec": {
   "display_name": "Python 3",
   "language": "python",
   "name": "python3"
  },
  "language_info": {
   "codemirror_mode": {
    "name": "ipython",
    "version": 3
   },
   "file_extension": ".py",
   "mimetype": "text/x-python",
   "name": "python",
   "nbconvert_exporter": "python",
   "pygments_lexer": "ipython3",
   "version": "3.7.4"
  }
 },
 "nbformat": 4,
 "nbformat_minor": 2
}
